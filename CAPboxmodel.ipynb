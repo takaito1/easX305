{
 "cells": [
  {
   "cell_type": "markdown",
   "id": "65061c48",
   "metadata": {
    "tags": []
   },
   "source": [
    "# Carbon-Alkalinity-Phosphorus box model\n",
    "Simplified from Sarmiento and Toggweiler 1984. \n",
    "Model parameters are mostly taken from the original 1984 paper. Carbonate chemistry is solved by PyCO2SYS package. Biological export is parameterized as a linear function of phosphate. Sea ice cover can be used to slow down high latitude productivity and air-sea gas exchange. Prognostic DIC and Alkalinity are calculated as salinity normalized values to the reference value of S=35. \n",
    "\n",
    "The model is set up as initial value problem. It can run in several different modes. \n",
    "\n",
    "mode=1: prescribed atmospheric CO2 at 278ppm\n",
    "\n",
    "mode=2: interactive atmosphere\n",
    "\n",
    "mode=3: historical and future scenarios (RCP)\n",
    "\n",
    "It plots the basic output variables, saves the restart file and diagnostic output in npz format.  "
   ]
  },
  {
   "cell_type": "code",
   "execution_count": 1,
   "id": "01b24c6d",
   "metadata": {},
   "outputs": [],
   "source": [
    "### import libraries\n",
    "import numpy as np\n",
    "import matplotlib.pyplot as plt\n",
    "import pandas as pd\n",
    "import PyCO2SYS as pyco2\n",
    "import scipy.interpolate as itp"
   ]
  },
  {
   "cell_type": "markdown",
   "id": "22eea724",
   "metadata": {},
   "source": [
    "## Set model parameters\n",
    "Here many physical paprameters can be changed. \n",
    "Make changes and run all the cells below to complete one simulation\n",
    "\n",
    "All of the physical parameters are in the SI units"
   ]
  },
  {
   "cell_type": "code",
   "execution_count": 2,
   "id": "5fd37e1d",
   "metadata": {},
   "outputs": [],
   "source": [
    "mod=2     # mod=1: constant atmos pco2 = 278 (pre-industrial)\n",
    "          # mod=2: interactive atmos pco2, \n",
    "          # mod=3: historical and future scenarios (RCP)\n",
    "# Input integration parameters\n",
    "dt  = 86400*360. # size of a time step (360 days = 1 yr)\n",
    "N   = 500 # default number of time steps (N=1000: 1000 years)        \n",
    "time= np.arange(0,N,1)*dt/(31104000)\n",
    "\n",
    "#--- parameters that can be changed --- \n",
    "Circ=25.4e6 # Thermohaline circulation (default = 25.4 Sv)\n",
    "Mix=80.e6   # High latitude vertical mixing (default = 80 Sv)\n",
    "Fld=30.e6   # Low latitude vertical mixing  \n",
    "SST=[21.5,2.5] # Sea surface temperature (low lat, high lat)\n",
    "SSS=[35.5,34.7] # Sea surface salinity (low lat, high lat)\n",
    "fice=.5         # fractional sea ice cover for high latitude box\n",
    "bio=.8e-8      # biological P uptake rate ([per sec])\n",
    "rain=0.15       # CaCO3 rain ratio (ST1984 value)\n",
    "rcp=110.        # Redfield C:P ratio\n",
    "G = 3.6/86400.  # Air-sea gas exchange coefficient (default = 3.6m/day)\n",
    "\n",
    "#--- do no change below this line ---\n",
    "V=np.array([3e16, 1.6e16, 1.4e18])\n",
    "c=Circ/V # volume normalized C\n",
    "m=Mix/V # volume normalized M\n",
    "fld=Fld/V # volume normalized Fld\n",
    "# initialize the carbonate chemistry solver\n",
    "pyco2_kws = {}\n",
    "pyco2_kws[\"par1_type\"] = 1  # tell PyCO2SYS: \"par1 is alkalinity value\"\n",
    "pyco2_kws[\"par2_type\"] = 2  # tell PyCO2SYS: \"par2 is DIC value\"\n",
    "# Define the seawater conditions and add them to the dict\n",
    "pyco2_kws[\"salinity\"] = SSS  # practical salinity\n",
    "pyco2_kws[\"temperature\"] = SST  # in-situ temperature (output conditions) in °C\n",
    "pyco2_kws[\"pressure\"] = 5  # in-situ pressure (output conditions) in dbar, ignoring the atmosphere\n",
    "# Matm = total moles of gases in the atmosphere\n",
    "Rearth=6.37e6\n",
    "Aearth=4.0*np.pi*Rearth**2\n",
    "Matm = 1013.e+2/9.8/0.0289*Aearth"
   ]
  },
  {
   "cell_type": "markdown",
   "id": "80ac6701",
   "metadata": {},
   "source": [
    "## Set initial conditions. \n",
    "This sections determines the initial values for C, A and P\n",
    "\n",
    "Concentrations are in the units of micro-mol/L or 1e-3 mol/m3.\n",
    "\n",
    "pCO2 is in the units of ppm"
   ]
  },
  {
   "cell_type": "code",
   "execution_count": 3,
   "id": "1101844e",
   "metadata": {},
   "outputs": [],
   "source": [
    "# set generic initial condition \n",
    "P=np.array([[0.176], [0.631], [2.26]])\n",
    "A=np.array([[2283.],[2298.],[2352.]])\n",
    "C=np.array([[1937.],[2068.],[2247.]])\n",
    "pco2atm=278.\n",
    "# read in preindustrial state as initial condition\n",
    "f=np.load('picontrol.npz')\n",
    "P=f['P']\n",
    "A=f['A']\n",
    "C=f['C']\n",
    "pco2atm=f['pco2atm']"
   ]
  },
  {
   "cell_type": "markdown",
   "id": "40caf6cc",
   "metadata": {},
   "source": [
    "## Read in atmospheric CO2 if needed\n",
    "Mode 3 only. \n",
    "\n",
    "This automatically adjust the length of the runs"
   ]
  },
  {
   "cell_type": "code",
   "execution_count": 4,
   "id": "10be1eb2",
   "metadata": {},
   "outputs": [],
   "source": [
    "if (mod==3): \n",
    "    # read in atmospheric CO2 data, choose one input file\n",
    "    #df=pd.read_csv('RCP3PD_MIDYEAR_CONCENTRATIONS.csv',skiprows=37)\n",
    "    df=pd.read_csv('RCP45_MIDYEAR_CONCENTRATIONS.csv',skiprows=37)\n",
    "    #df=pd.read_csv('RCP6_MIDYEAR_CONCENTRATIONS.csv',skiprows=37)\n",
    "    #df=pd.read_csv('RCP85_MIDYEAR_CONCENTRATIONS.csv',skiprows=37)\n",
    "    co2obs=df['CO2']\n",
    "    yearobs=df['Year']\n",
    "    Gco2obs=itp.interp1d(yearobs,co2obs,'linear')\n",
    "    pco2atm=co2obs[0]\n",
    "    N=int((2300-1765+1)*31104000/dt)"
   ]
  },
  {
   "cell_type": "markdown",
   "id": "469b5763",
   "metadata": {},
   "source": [
    "## Prepare data arrays for model run"
   ]
  },
  {
   "cell_type": "code",
   "execution_count": 5,
   "id": "ed7555c5",
   "metadata": {},
   "outputs": [],
   "source": [
    "# set transport matrix\n",
    "T=np.array([[-c[0]-fld[0], 0, c[0]+fld[0]],\n",
    "            [c[1], -c[1]-m[1], m[1]],\n",
    "            [+fld[2], c[2]+m[2], -c[2]-m[2]-fld[2]]])\n",
    "# set up bio matrix\n",
    "B=np.array([[-bio, 0, 0],\n",
    "            [0, -bio*(1.-fice), 0],\n",
    "            [bio*V[0]/V[2], bio*(1.-fice)*V[1]/V[2], 0]])\n",
    "# Invert the matrix for Euler backward P\n",
    "Mp=np.linalg.inv(np.eye(3)-dt*(T+B))\n",
    "# Invert the matrix for Euler backward A and C (for transport only)\n",
    "Mac=np.linalg.inv(np.eye(3)-dt*T)\n",
    "### data storage array for time-dependent model solutions\n",
    "Pt=np.zeros((3,N))\n",
    "At=np.zeros((3,N))\n",
    "Ct=np.zeros((3,N))\n",
    "time=np.zeros((N,))\n",
    "Cinv_atm=np.zeros((N,))\n",
    "Cinv_ocn=np.zeros((N,))\n",
    "pco2atmt=np.zeros((N,))\n",
    "Lexp=np.zeros((N,))\n",
    "Hexp=np.zeros((N,))\n",
    "Lfco2=np.zeros((N,))\n",
    "Hfco2=np.zeros((N,))\n",
    "LpH=np.zeros((N,))\n",
    "HpH=np.zeros((N,))"
   ]
  },
  {
   "cell_type": "markdown",
   "id": "2cbd2ddd",
   "metadata": {},
   "source": [
    "## The actual model integration happens here"
   ]
  },
  {
   "cell_type": "code",
   "execution_count": 6,
   "id": "73ac13fb",
   "metadata": {},
   "outputs": [],
   "source": [
    "# time stepping loop\n",
    "for n in range(0,N):\n",
    "    # diagnostics-keeping track of variables\n",
    "    Cinv_atm[n]=pco2atm*Matm*1.0e-6\n",
    "    Cinv_ocn[n]=V.T@C*1025.e-6\n",
    "    Pt[:,n]=P.flatten()\n",
    "    At[:,n]=A.flatten()\n",
    "    Ct[:,n]=C.flatten()\n",
    "    pco2atmt[n]=pco2atm\n",
    "    # solve carbonate chemistry\n",
    "    pyco2_kws[\"par1\"] = A[:-1].T/35*SSS  # alkalinity\n",
    "    pyco2_kws[\"par2\"] = C[:-1].T/35*SSS  # DIC in μmol/kg-sw\n",
    "    CCsol = pyco2.sys(**pyco2_kws)\n",
    "    Kh=CCsol['k_CO2']\n",
    "    fco2=CCsol['fCO2']\n",
    "    # set air-sea flux vector\n",
    "    A2S=np.zeros((3,1))   \n",
    "    A2S[0]=-G*Kh[0,0]*(fco2[0,0]-pco2atm)/100\n",
    "    A2S[1]=-G*(1.-fice)*Kh[0,1]*(fco2[0,1]-pco2atm)/400   \n",
    "    # step forward P\n",
    "    P = Mp@P\n",
    "    # step forward A\n",
    "    A = Mac@A + dt*rcp*rain*2*B@P\n",
    "    # step forward C\n",
    "    C = Mac@C + dt*(A2S + rcp*(1+rain)*B@P)\n",
    "    # update atmospheric co2\n",
    "    if (mod==1):\n",
    "        pco2atm=278.\n",
    "        time[n]=dt*n/31104000\n",
    "    elif (mod==2):\n",
    "        pco2atm=pco2atm-dt*(A2S[0]*V[0]+A2S[1]*V[1])/Matm*1.e3 # step forward atmos pCO2\n",
    "        time[n]=dt*n/31104000\n",
    "    elif (mod==3):\n",
    "        time[n]=(dt*n)/31104000+1765.\n",
    "        pco2atm=Gco2obs(time[n])\n",
    "    # save additional diagnostics\n",
    "    Lexp[n]=bio*P[0]*V[0]*rcp*(1+rain)*12.e-18*31104000 # convert to PgC/yr\n",
    "    Hexp[n]=bio*(1.-fice)*P[1]*V[1]*rcp*(1+rain)*12.e-18*31104000\n",
    "    Lfco2[n]=A2S[0]*V[0]*12.e-18*31104000\n",
    "    Hfco2[n]=A2S[1]*V[1]*12.e-18*31104000\n",
    "    LpH[n]=CCsol[\"pH\"][0,0]\n",
    "    HpH[n]=CCsol[\"pH\"][0,1]"
   ]
  },
  {
   "cell_type": "markdown",
   "id": "2892f85f",
   "metadata": {},
   "source": [
    "## Save restart file and diagnostics"
   ]
  },
  {
   "cell_type": "code",
   "execution_count": 7,
   "id": "2c6c0c77",
   "metadata": {},
   "outputs": [],
   "source": [
    "np.savez('restart.npz',P=P,C=C,A=A,pco2atm=pco2atm)\n",
    "np.savez('diagnostics.npz',Lexp=Lexp,Hexp=Hexp,Lfco2=Lfco2,\n",
    "         Hfco2=Hfco2,Pt=Pt,Ct=Ct,At=At,pco2atmt=pco2atmt,\n",
    "         Cinv_atm=Cinv_atm,Cinv_ocn=Cinv_ocn,LpH=LpH,HpH=HpH)"
   ]
  },
  {
   "cell_type": "markdown",
   "id": "3cf4a473",
   "metadata": {},
   "source": [
    "## Plot the results"
   ]
  },
  {
   "cell_type": "code",
   "execution_count": 8,
   "id": "f29f04ad",
   "metadata": {},
   "outputs": [
    {
     "data": {
      "image/png": "[encoded data removed]",
      "text/plain": [
       "<Figure size 432x576 with 6 Axes>"
      ]
     },
     "metadata": {
      "needs_background": "light"
     },
     "output_type": "display_data"
    }
   ],
   "source": [
    "fig=plt.figure(figsize=(6,8))\n",
    "##\n",
    "ax11 = fig.add_axes([0.1, 0.75,0.25,0.17])\n",
    "plt.plot(time,Pt.T)\n",
    "plt.legend(['Low lat','High lat','Deep'])\n",
    "plt.ylabel('PO4, micro-mol/kg')\n",
    "##\n",
    "ax21 = fig.add_axes([0.1, 0.5,0.25,0.17])\n",
    "plt.plot(time,At.T)\n",
    "plt.legend(['Low lat','High lat','Deep'])\n",
    "plt.ylabel('Alks, micro-mol/kg')\n",
    "##\n",
    "ax31 = fig.add_axes([0.1, 0.25,0.25,0.17])\n",
    "plt.plot(time,Ct.T)\n",
    "plt.legend(['Low lat','High lat','Deep'])\n",
    "plt.xlabel('year')\n",
    "plt.ylabel('DICs, micro-mol/kg')\n",
    "##\n",
    "ax12 = fig.add_axes([0.55, 0.75,0.25,0.17])\n",
    "plt.plot(time,Lexp,label='Low lat')\n",
    "plt.plot(time,Hexp,label='High lat')\n",
    "plt.legend()\n",
    "plt.xlabel('year')\n",
    "plt.ylabel('Export Prod, PgC/yr')\n",
    "##\n",
    "ax22 = fig.add_axes([0.55, 0.5,0.25,0.17])\n",
    "plt.plot(time,Lfco2,label='Low lat')\n",
    "plt.plot(time,Hfco2,label='High lat')\n",
    "plt.legend()\n",
    "plt.xlabel('year')\n",
    "plt.ylabel('Air-Sea CO2 flux, PgC/yr')\n",
    "##\n",
    "ax23 = fig.add_axes([0.55, 0.25,0.25,0.17])\n",
    "plt.plot(time,pco2atmt)\n",
    "plt.xlabel('year')\n",
    "plt.ylabel('Atmos pCO2, ppm')\n",
    "##\n",
    "fign='CAP_fig1'\n",
    "plt.savefig(fign+'.pdf',bbox_inches=\"tight\",dpi=300)\n",
    "#plt.savefig('./fig/'+fn+'.png',bbox_inches=\"tight\",dpi=300)\n",
    "plt.show()"
   ]
  },
  {
   "cell_type": "code",
   "execution_count": 9,
   "id": "dc40b7ab",
   "metadata": {},
   "outputs": [
    {
     "data": {
      "image/png": "[encoded data removed]",
      "text/plain": [
       "<Figure size 432x576 with 2 Axes>"
      ]
     },
     "metadata": {
      "needs_background": "light"
     },
     "output_type": "display_data"
    }
   ],
   "source": [
    "fig=plt.figure(figsize=(6,8))\n",
    "##\n",
    "ax11 = fig.add_axes([0.1, 0.55,0.7,0.35])\n",
    "plt.plot(time,Lfco2,label='Low lat')\n",
    "plt.plot(time,Hfco2,label='High lat')\n",
    "plt.plot(time,Hfco2+Lfco2,label='Global')\n",
    "plt.ylabel('ocean carbon uptake, PgC/yr')\n",
    "plt.legend()\n",
    "##\n",
    "ax21 = fig.add_axes([0.1, 0.1,0.7,0.35])\n",
    "plt.plot(time,LpH,label='Low lat')\n",
    "plt.plot(time,HpH,label='High lat')\n",
    "plt.ylabel('pH')\n",
    "plt.xlabel('time')\n",
    "plt.legend()\n",
    "##\n",
    "fign='CAP_fig2'\n",
    "plt.savefig(fign+'.pdf',bbox_inches=\"tight\",dpi=300)\n",
    "#plt.savefig('./fig/'+fn+'.png',bbox_inches=\"tight\",dpi=300)\n",
    "plt.show()"
   ]
  },
  {
   "cell_type": "code",
   "execution_count": 10,
   "id": "5b13f2bc",
   "metadata": {},
   "outputs": [],
   "source": [
    "# update the restart file if desired\n",
    "#! cp restart.npz picontrol.npz\n",
    "#! cp diagnostics.npz spinup.npz"
   ]
  }
 ],
 "metadata": {
  "kernelspec": {
   "display_name": "Python [conda env:miniconda3-analysis]",
   "language": "python",
   "name": "conda-env-miniconda3-analysis-py"
  },
  "language_info": {
   "codemirror_mode": {
    "name": "ipython",
    "version": 3
   },
   "file_extension": ".py",
   "mimetype": "text/x-python",
   "name": "python",
   "nbconvert_exporter": "python",
   "pygments_lexer": "ipython3",
   "version": "3.7.12"
  }
 },
 "nbformat": 4,
 "nbformat_minor": 5
}
